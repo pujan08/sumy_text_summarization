{
 "cells": [
  {
   "cell_type": "code",
   "execution_count": 5,
   "id": "a9874e8e",
   "metadata": {},
   "outputs": [],
   "source": [
    "#import libraries"
   ]
  },
  {
   "cell_type": "code",
   "execution_count": null,
   "id": "8f078d77",
   "metadata": {},
   "outputs": [],
   "source": [
    "from sumy.parsers.html import HtmlParser\n",
    "from sumy.nlp.tokenizers import Tokenizer\n",
    "from sumy.summarizers.lsa import LsaSummarizer"
   ]
  },
  {
   "cell_type": "code",
   "execution_count": 6,
   "id": "9cb48fc7",
   "metadata": {},
   "outputs": [],
   "source": [
    "#include url"
   ]
  },
  {
   "cell_type": "code",
   "execution_count": 2,
   "id": "ae349b2b",
   "metadata": {},
   "outputs": [],
   "source": [
    "url = \"https://medium.com/@subashgandyer/papa-what-is-a-neural-network-c5e5cc427c7\"\n",
    "parser = HtmlParser.from_url(url, Tokenizer(\"english\"))"
   ]
  },
  {
   "cell_type": "code",
   "execution_count": 7,
   "id": "200605d9",
   "metadata": {},
   "outputs": [
    {
     "data": {
      "text/plain": [
       "<DOM with 46 paragraphs>"
      ]
     },
     "execution_count": 7,
     "metadata": {},
     "output_type": "execute_result"
    }
   ],
   "source": [
    "doc = parser.document\n",
    "doc"
   ]
  },
  {
   "cell_type": "code",
   "execution_count": 8,
   "id": "5e358647",
   "metadata": {},
   "outputs": [],
   "source": [
    "#include summarizer for lsa"
   ]
  },
  {
   "cell_type": "code",
   "execution_count": 4,
   "id": "bfac37cf",
   "metadata": {},
   "outputs": [
    {
     "data": {
      "text/plain": [
       "(<Sentence: If you’ve noticed, this is how ML people make their machines learn through Reinforcement Learning.>,\n",
       " <Sentence: For example, when I showed you a lion picture, your brain asked the neurons who had seen it before.>,\n",
       " <Sentence: Every neuron will tune itself to pick up certain features like legs, tail, face, beard, and so on.>,\n",
       " <Sentence: And I hope she will not come to me running asking “Papa, what is Meural Metark?” again.>,\n",
       " <Sentence: And I have a strong feeling; she would ask me another stunning question sooner or later.>)"
      ]
     },
     "execution_count": 4,
     "metadata": {},
     "output_type": "execute_result"
    }
   ],
   "source": [
    "summarizer = LsaSummarizer()\n",
    "summary_text = summarizer(doc, 5)\n",
    "summary_text"
   ]
  },
  {
   "cell_type": "code",
   "execution_count": null,
   "id": "b81fb0cf",
   "metadata": {},
   "outputs": [],
   "source": []
  }
 ],
 "metadata": {
  "kernelspec": {
   "display_name": "Python 3 (ipykernel)",
   "language": "python",
   "name": "python3"
  },
  "language_info": {
   "codemirror_mode": {
    "name": "ipython",
    "version": 3
   },
   "file_extension": ".py",
   "mimetype": "text/x-python",
   "name": "python",
   "nbconvert_exporter": "python",
   "pygments_lexer": "ipython3",
   "version": "3.11.5"
  }
 },
 "nbformat": 4,
 "nbformat_minor": 5
}
